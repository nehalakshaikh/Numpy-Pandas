{
 "cells": [
  {
   "cell_type": "code",
   "execution_count": 1,
   "id": "eff47e4a",
   "metadata": {},
   "outputs": [],
   "source": [
    "import numpy as np"
   ]
  },
  {
   "cell_type": "code",
   "execution_count": 2,
   "id": "4ff6fd9f",
   "metadata": {},
   "outputs": [
    {
     "name": "stdout",
     "output_type": "stream",
     "text": [
      "orignal array: [[1 5 3 4 5 1 2 5 4 6]]\n",
      "count:  [Counter({5: 3, 4: 2, 1: 2, 6: 1, 3: 1, 2: 1})]\n",
      "Most frequent value in the above array: [5]\n"
     ]
    }
   ],
   "source": [
    "from collections import Counter\n",
    "array1 = np.array([[1,5,3,4,5,1,2,5,4,6]])\n",
    "print(\"orignal array:\",array1)\n",
    "print(\"count: \",np.array([Counter(sorted(row,reverse=True))for row in array1]))\n",
    "print(\"Most frequent value in the above array:\",np.array([Counter(sorted(row,reverse=True)).most_common(1)[0][0]for row in array1]))"
   ]
  }
 ],
 "metadata": {
  "kernelspec": {
   "display_name": "Python 3 (ipykernel)",
   "language": "python",
   "name": "python3"
  },
  "language_info": {
   "codemirror_mode": {
    "name": "ipython",
    "version": 3
   },
   "file_extension": ".py",
   "mimetype": "text/x-python",
   "name": "python",
   "nbconvert_exporter": "python",
   "pygments_lexer": "ipython3",
   "version": "3.9.12"
  }
 },
 "nbformat": 4,
 "nbformat_minor": 5
}
